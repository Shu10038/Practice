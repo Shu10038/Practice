{
 "cells": [
  {
   "cell_type": "markdown",
   "metadata": {},
   "source": [
    "## EMアルゴリズム\n",
    "<div style=\"text-align: right;\">\n",
    "'18/1/13\n",
    "</div>"
   ]
  },
  {
   "cell_type": "code",
   "execution_count": 1,
   "metadata": {
    "collapsed": true
   },
   "outputs": [],
   "source": [
    "import numpy as np\n",
    "import matplotlib.pyplot as plt\n",
    "import math\n",
    "import random"
   ]
  },
  {
   "cell_type": "markdown",
   "metadata": {},
   "source": [
    "#### データの生成"
   ]
  },
  {
   "cell_type": "code",
   "execution_count": 18,
   "metadata": {},
   "outputs": [
    {
     "data": {
      "image/png": "[encoded data removed]",
      "text/plain": [
       "<matplotlib.figure.Figure at 0x249cafaacf8>"
      ]
     },
     "metadata": {},
     "output_type": "display_data"
    }
   ],
   "source": [
    "nd1 = np.random.normal(10, 3, (250))\n",
    "nd2 = np.random.normal(20, 3, (250))\n",
    "\n",
    "data = np.concatenate([nd1, nd2])\n",
    "\n",
    "plt.figure(figsize=(10.5,6))\n",
    "plt.hist(data, bins=40)\n",
    "plt.show()"
   ]
  },
  {
   "cell_type": "markdown",
   "metadata": {},
   "source": [
    "#### EMアルゴリズムによる尤度の計算"
   ]
  },
  {
   "cell_type": "code",
   "execution_count": 19,
   "metadata": {},
   "outputs": [],
   "source": [
    "# ガウス分布の計算（データ，平均，分散）\n",
    "def gaussian(x, mean, vari):\n",
    "    return math.exp(- pow(x - mean, 2) / (2 *vari)) / math.sqrt(2 * math.pi *vari)\n",
    "\n",
    "# Eステップの計算\n",
    "def e_step(xs, ms, vs, p):\n",
    "    burden_rates = []\n",
    "    for x in xs:\n",
    "        # 負担率の分母と分子の計算\n",
    "        d = (1-p)*gaussian(x, ms[0], vs[0]) + p*gaussian(x, ms[1], vs[1])\n",
    "        n = p*gaussian(x, ms[1], vs[1])\n",
    "\n",
    "        # 負担率の計算\n",
    "        burden_rate = n/d\n",
    "        burden_rates.append(burden_rate)\n",
    "    return burden_rates\n",
    "\n",
    "\n",
    "# Mステップ\n",
    "def m_step(xs, p_s):\n",
    "    # 負担率を使って平均と分散を更新する\n",
    "    # 正規分布１\n",
    "    d = sum([1-r for r in burden_rates])\n",
    "    n = sum([(1-r)*x for x, r in zip(xs, burden_rates)])\n",
    "    mu1 = n/d\n",
    "\n",
    "    n = sum([(1-r)*pow(x - mu1, 2) for x, r in zip(xs, burden_rates)])\n",
    "    var1 = n/d\n",
    "\n",
    "    # 正規分布２\n",
    "    d = sum(burden_rates)\n",
    "    n = sum([r*x for x, r in zip(xs, burden_rates)])\n",
    "    mu2 = n/d\n",
    "\n",
    "    n = sum(r*pow(x - mu2, 2) for x, r in zip(xs, burden_rates))\n",
    "    var2 = n/d\n",
    "\n",
    "    # piの更新\n",
    "    N = len(xs)\n",
    "    p = sum(burden_rates) / N\n",
    "\n",
    "    return [mu1, mu2], [var1, var2], p\n",
    "\n",
    "\n",
    "# 対数尤度関数の計算\n",
    "def calc_log_likelihood(x_s, m_s, v_s, p_s):\n",
    "    buff = 0\n",
    "    for x in x_s:\n",
    "        buff += math.log((1-p_s)*gaussian(x, m_s[0], v_s[0])\n",
    "                      +p_s*gaussian(x, m_s[1], v_s[1]))\n",
    "    return buff\n",
    "\n",
    "\n",
    "# EMアルゴリズムの計算\n",
    "\n",
    "p_s = 0.5\n",
    "m_s = [random.choice(data), random.choice(data)]\n",
    "v_s = [np.var(data), np.var(data)]\n",
    "\n",
    "# 対数尤度を保存しておくリスト\n",
    "ls = []\n",
    "\n",
    "# EMアルゴリズム\n",
    "for t in range(100):\n",
    "    # Eステップで負担率を計算する\n",
    "    burden_rates = e_step(data, m_s, v_s, p_s)\n",
    "\n",
    "    # MEステップでパラメータを更新する\n",
    "    m_s, v_s, p_s = m_step(data, burden_rates)\n",
    "    \n",
    "    # 対数尤度の計算\n",
    "    ls.append(calc_log_likelihood(data, m_s, v_s, p_s))"
   ]
  },
  {
   "cell_type": "markdown",
   "metadata": {},
   "source": [
    "#### 平均と分散"
   ]
  },
  {
   "cell_type": "code",
   "execution_count": 20,
   "metadata": {},
   "outputs": [
    {
     "name": "stdout",
     "output_type": "stream",
     "text": [
      "mean_1=9.808970526944659, mean_2=19.720756112495792, variance_1=8.75999491517131, variance_2=9.998603285914625, pi=0.5164183991300372\n"
     ]
    }
   ],
   "source": [
    "print('mean_1={0}, mean_2={1}, variance_1={2}, variance_2={3}, pi={4}'.format(\n",
    "    m_s[0], m_s[1], v_s[0], v_s[1], p_s))"
   ]
  },
  {
   "cell_type": "markdown",
   "metadata": {},
   "source": [
    "#### 対数尤度の計算"
   ]
  },
  {
   "cell_type": "code",
   "execution_count": 21,
   "metadata": {},
   "outputs": [
    {
     "data": {
      "image/png": "[encoded data removed]",
      "text/plain": [
       "<matplotlib.figure.Figure at 0x249cac130b8>"
      ]
     },
     "metadata": {},
     "output_type": "display_data"
    }
   ],
   "source": [
    "plt.figure(figsize=(14.5,6))\n",
    "plt.plot(np.arange(len(ls)), ls)\n",
    "plt.show()"
   ]
  },
  {
   "cell_type": "code",
   "execution_count": null,
   "metadata": {
    "collapsed": true
   },
   "outputs": [],
   "source": []
  }
 ],
 "metadata": {
  "kernelspec": {
   "display_name": "Python 3",
   "language": "python",
   "name": "python3"
  },
  "language_info": {
   "codemirror_mode": {
    "name": "ipython",
    "version": 3
   },
   "file_extension": ".py",
   "mimetype": "text/x-python",
   "name": "python",
   "nbconvert_exporter": "python",
   "pygments_lexer": "ipython3",
   "version": "3.6.3"
  }
 },
 "nbformat": 4,
 "nbformat_minor": 2
}
